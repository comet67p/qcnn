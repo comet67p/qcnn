{
 "cells": [
  {
   "cell_type": "code",
   "execution_count": 15,
   "id": "fbca1c4a",
   "metadata": {},
   "outputs": [],
   "source": [
    "# Step 1: Define constants\n",
    "\n",
    "import numpy as np\n",
    "from torch.nn import CrossEntropyLoss, NLLLoss, MSELoss\n",
    "\n",
    "# Run specific\n",
    "DATASET = \"cadena\" # \"mnist\", \"fashion-mnist\", \"cifar\"\n",
    "EPOCHS = 10\n",
    "QUBITS = 2\n",
    "NEURONS_FROM=4\n",
    "NEURONS_PREDICTED=1\n",
    "SIMPLE_NEURONS_PER_FEATURE_PER_ROW = 8\n",
    "LOSS_FUNC = MSELoss(reduction=\"sum\")\n",
    "PERTURB = False\n",
    "RESUME_TRAINING = True\n",
    "CHOOSE_NEW_RECEPTIVE_FIELDS = False\n",
    "CHOOSE_NEW_TRAINING_DATA = False\n",
    "TRAINING_RUN = \"v89\"\n",
    "# Constants\n",
    "QC_REPETITIONS = 1\n",
    "BATCH_SIZE = 256\n",
    "\n",
    "\n",
    "FILENAME_PREFIX = f'v3-{DATASET}-r{TRAINING_RUN}-q{QUBITS}-{QC_REPETITIONS}'\n",
    "\n",
    "if DATASET == \"cifar\":\n",
    "  IMAGE_WIDTH = 32\n",
    "  TARGETS = np.array([\"airplane\", \"automobile\", \"bird\", \"cat\", \"deer\", \"dog\", \"frog\", \"horse\", \"ship\", \"truck\"])  \n",
    "elif DATASET == \"fashion-mnist\":\n",
    "  IMAGE_WIDTH = 28\n",
    "  TARGETS = np.array([\"T-shirt/top\", \"Trouser\", \"Pullover\", \"Dress\", \"Coat\", \"Sandal\", \"Shirt\", \"Sneaker\", \"Bag\", \"Ankle boot\"]) \n",
    "elif DATASET == \"cadena\":\n",
    "   IMAGE_WIDTH = 40\n",
    "   TARGETS = []\n",
    "else: \n",
    "  IMAGE_WIDTH = 28\n",
    "  TARGETS = np.array([0,1,2,3,4,5,6,7,8,9])\n",
    "\n",
    "\n",
    "## Settings\n",
    "DEBUG = False\n",
    "SAMPLE_RUN = False\n",
    "SAMPLE_ITERATIONS = 10\n"
   ]
  },
  {
   "cell_type": "code",
   "execution_count": 16,
   "id": "banned-helicopter",
   "metadata": {},
   "outputs": [
    {
     "name": "stdout",
     "output_type": "stream",
     "text": [
      "cpu\n"
     ]
    }
   ],
   "source": [
    "# Step 2: Necessary imports\n",
    "\n",
    "import matplotlib.pyplot as plt\n",
    "from matplotlib.patches import Rectangle\n",
    "from itertools import cycle\n",
    "import random\n",
    "import os.path as path\n",
    "from qiskit import QuantumCircuit\n",
    "from qiskit.circuit import Parameter\n",
    "from qiskit.circuit.library import RealAmplitudes, ZZFeatureMap\n",
    "from qiskit_algorithms.utils import algorithm_globals\n",
    "from qiskit_machine_learning.neural_networks import SamplerQNN, EstimatorQNN\n",
    "from qiskit_machine_learning.connectors import TorchConnector\n",
    "from qiskit.quantum_info import SparsePauliOp\n",
    "from qiskit.quantum_info.operators.base_operator import BaseOperator\n",
    "\n",
    "from datetime import datetime\n",
    "\n",
    "# Additional torch-related imports\n",
    "import torch\n",
    "from torch import Tensor, cat, no_grad, manual_seed\n",
    "from torch.nn import Linear, MSELoss, Softmax\n",
    "from torch.optim import LBFGS\n",
    "from torch.utils.data import DataLoader\n",
    "from torchvision import datasets, transforms\n",
    "import torch.optim as optim\n",
    "from torch.nn import (\n",
    "    Module,\n",
    "    Conv2d,\n",
    "    Linear,\n",
    "    Bilinear,\n",
    "    Dropout2d,\n",
    "    MaxPool2d,\n",
    "    Flatten,\n",
    "    Sequential,\n",
    "    ReLU,\n",
    "    AvgPool2d,\n",
    "    ELU\n",
    ")\n",
    "import torch.nn.functional as F\n",
    "\n",
    "# Project specific imports\n",
    "from canonicallayers.brightnessextractor import extractBrightness, extractBrightnessAtV2\n",
    "from canonicallayers.gaborfilterextractor import extract_power_featsV2\n",
    "from canonicallayers.perturbations import skew, rotate, noise, elastic_transform\n",
    "\n",
    "import csv\n",
    "import logging\n",
    "import os\n",
    "import time\n",
    "\n",
    "import matplotlib\n",
    "from cadena_ploscb.data import Dataset, MonkeySubDataset\n",
    "\n",
    "algorithm_globals.random_seed = 42\n",
    "\n",
    "device = torch.device(\"cpu\")\n",
    "\n",
    "print(device)\n",
    "\n",
    "# torch.cuda.set_per_process_memory_fraction(0.5, 0)\n",
    "torch.cuda.empty_cache()"
   ]
  },
  {
   "cell_type": "code",
   "execution_count": 17,
   "id": "worthy-charlotte",
   "metadata": {},
   "outputs": [
    {
     "name": "stdout",
     "output_type": "stream",
     "text": [
      "Subtracting mean: 112.51203\n",
      "(18560, 166)\n"
     ]
    }
   ],
   "source": [
    "# Step 3: Prepare Training data\n",
    "# -------------\n",
    "\n",
    "data_dict = Dataset.get_clean_data()\n",
    "dataset = MonkeySubDataset(data_dict, seed=1000, train_frac=0.8, subsample=2, crop=30)\n",
    "\n",
    "# b_out is calculated as inverse ELU of responses mean\n",
    "# Used as input for non-linear mapping the model output to neuron firing rates\n",
    "_, responses, _ = dataset.train()\n",
    "print(responses.shape)"
   ]
  },
  {
   "cell_type": "code",
   "execution_count": 18,
   "id": "f2d62e87",
   "metadata": {},
   "outputs": [
    {
     "name": "stdout",
     "output_type": "stream",
     "text": [
      "predicted neurons (4, 1, 166) sum [366. 360. 359. 344.] mean [2.2048192 2.1686747 2.1626506 2.0722892]\n",
      "min [0. 0. 0. 0.] max [14. 16. 19. 15.] std [2.6808515 2.7146158 2.8077006 2.575525 ]\n",
      "MAX 19.0\n"
     ]
    }
   ],
   "source": [
    "  images_test, responses_test, real_responses_test = dataset.test()\n",
    "  sresps_test = responses_test[:,NEURONS_FROM:NEURONS_FROM+NEURONS_PREDICTED]\n",
    "  print(\"predicted neurons\", sresps_test.shape, \"sum\", sresps_test.sum(axis=2).squeeze(), \"mean\", sresps_test.mean(axis=2).squeeze())\n",
    "  print(\"min\", sresps_test.min(axis=2).squeeze(),\"max\", sresps_test.max(axis=2).squeeze(), \"std\", sresps_test.std(axis=2).squeeze())\n",
    "  MAX = sresps_test.max()\n",
    "  print(\"MAX\", MAX)"
   ]
  },
  {
   "cell_type": "code",
   "execution_count": 19,
   "id": "medieval-bibliography",
   "metadata": {},
   "outputs": [],
   "source": [
    "# PLOT = True\n",
    "# BATCH_SIZE = 256\n",
    "# if(PLOT):\n",
    "#   rows = 2\n",
    "#   fig, axes = plt.subplots(nrows=rows, ncols=rows, sharex=True, figsize=(20, 20))\n",
    "#   img_batch, res_batch, real_batch = dataset.minibatch(BATCH_SIZE)\n",
    "#   print(\"img_batch\", img_batch.shape)\n",
    "#   images = torch.tensor(img_batch).permute(0, 3, 1, 2)\n",
    "#   print(\"images\", images.shape)\n",
    "#   print(\"squeezed\", images[0].squeeze().shape)\n",
    "#   for p in range(rows * rows):\n",
    "#     axes[p//rows,p%rows].imshow(images[p].squeeze(), cmap=\"gray\")\n",
    "#     axes[p//rows,p%rows].set_xticks([])\n",
    "#     axes[p//rows,p%rows].set_yticks([])\n",
    "\n",
    "#   fig, axes = plt.subplots(nrows=rows, ncols=rows, sharex=True, figsize=(30, 30))\n",
    "#   for p in range(rows * rows):\n",
    "#     axes[p//rows,p%rows].imshow(img_batch[p].squeeze(), cmap=\"gray\")\n",
    "#     axes[p//rows,p%rows].set_xticks([])\n",
    "#     axes[p//rows,p%rows].set_yticks([])"
   ]
  },
  {
   "cell_type": "code",
   "execution_count": 20,
   "id": "urban-purse",
   "metadata": {},
   "outputs": [],
   "source": [
    "# Step 7- Define QNN Model\n",
    "\n",
    "# Define and create QNN\n",
    "def create_qnn():\n",
    "    feature_map = ZZFeatureMap(QUBITS, reps=QC_REPETITIONS)\n",
    "    ansatz = RealAmplitudes(QUBITS, reps=1)\n",
    "    qc = QuantumCircuit(QUBITS)\n",
    "    qc.compose(feature_map, inplace=True)\n",
    "    qc.compose(ansatz, inplace=True)\n",
    "\n",
    "    # REMEMBER TO SET input_gradients=True FOR ENABLING HYBRID GRADIENT BACKPROP\n",
    "    qnn = EstimatorQNN(\n",
    "        circuit=qc,\n",
    "        input_params=feature_map.parameters,\n",
    "        weight_params=ansatz.parameters,\n",
    "        input_gradients=True,\n",
    "        # observables=SparsePauliOp(['IIII', 'IIII', 'IIII', 'IIII'])\n",
    "    )\n",
    "    return qnn\n",
    "\n",
    "\n",
    "qnn1 = create_qnn()\n"
   ]
  },
  {
   "cell_type": "code",
   "execution_count": 21,
   "id": "exclusive-productivity",
   "metadata": {},
   "outputs": [],
   "source": [
    "# Define Hybrid torch NN Module\n",
    "\n",
    "class Net(Module):\n",
    "    def __init__(self, qnn1):\n",
    "      super().__init__()\n",
    "      self.conv1 = Conv2d(1, 32, kernel_size=13,padding='valid').to(device)\n",
    "      self.pool = AvgPool2d(kernel_size=5, stride=1, padding=2).to(device)\n",
    "      self.fc1 = Linear(32*28*28, QUBITS).to(device)  # 32 * QUBIT-dimensional output\n",
    "      # self.fc2 = Linear(32*QUBITS, QUBITS).to(device)  # QUBIT-dimensional output\n",
    "      self.elu = ELU()\n",
    "      self.qnn1 = TorchConnector(qnn1).to(device)  # Apply torch connector, weights chosen\n",
    "      self.relu = ReLU().to(device)\n",
    "\n",
    "    def forward(self, x):\n",
    "      x = x.permute(0, 3, 1, 2)\n",
    "      if(DEBUG):\n",
    "        print(\"x shape\", x.shape)\n",
    "      x = self.elu(self.conv1(x))\n",
    "      # print(\"conv1\", x[0, 0, 0, 0])\n",
    "      x = self.elu(self.pool(x))\n",
    "      # print(\"pool\", x[0, 0, 0, 0])\n",
    "      x = self.elu(self.fc1(torch.flatten(x, start_dim=1).to(device)))\n",
    "      # print(\"fc1\", x[0, 0])\n",
    "      # x = self.relu(self.fc2(x))\n",
    "      # print(\"fc2\", x[0, 0])\n",
    "      x = torch.abs(self.qnn1(x)).to(device) * MAX\n",
    "      # print(\"qnn\", x[0, 0])\n",
    "      if(DEBUG):\n",
    "        print(\"After qnn, output\", x.shape, x[0:3, :])\n",
    "      return x\n",
    "\n",
    "\n"
   ]
  },
  {
   "cell_type": "code",
   "execution_count": 22,
   "id": "a912544d",
   "metadata": {},
   "outputs": [],
   "source": [
    "# Step 11 - Initialize model\n",
    "\n",
    "model = Net(qnn1)"
   ]
  },
  {
   "cell_type": "code",
   "execution_count": 23,
   "id": "7eaac40a",
   "metadata": {},
   "outputs": [],
   "source": [
    "# Step 12 - Load previous results\n",
    "\n",
    "model.load_state_dict(torch.load(f'checkpoints/{FILENAME_PREFIX}-modelweights.pt'))\n",
    "loss_list = torch.load(f\"checkpoints/{FILENAME_PREFIX}-losslist.pt\")\n",
    " "
   ]
  },
  {
   "cell_type": "code",
   "execution_count": 24,
   "id": "860baf54",
   "metadata": {},
   "outputs": [
    {
     "data": {
      "image/png": "[encoded data removed]",
      "text/plain": [
       "<Figure size 640x480 with 1 Axes>"
      ]
     },
     "metadata": {},
     "output_type": "display_data"
    }
   ],
   "source": [
    "# Step 13 - Plot Prior Losses\n",
    "plt.plot(loss_list)\n",
    "plt.title(\"Hybrid NN Training Convergence\")\n",
    "plt.xlabel(\"Training Iterations\")\n",
    "plt.ylabel(\"Loss\")\n",
    "plt.show()"
   ]
  },
  {
   "cell_type": "code",
   "execution_count": null,
   "id": "9e8733a7",
   "metadata": {},
   "outputs": [],
   "source": [
    "#Calculate Fraction of Explainable Variance\n",
    "def calculateFEV3(predictions_test, responses_test, real_responses_test, \n",
    "  nrep, nim, tneu, nneu, fneu):\n",
    "  predictions_test = torch.tile(predictions_test, (4, 1)).detach().cpu().numpy()\n",
    "  resps_test_nan = dataset.nanarray(real_responses_test, responses_test)\n",
    "  resps_test = resps_test_nan.reshape([nrep * nim, tneu])\n",
    "  sresps_test = resps_test[:,fneu:fneu+nneu]\n",
    "  MSE = np.nanmean((predictions_test - sresps_test) ** 2, axis=0)\n",
    "  obs_var_avg, total_variance, explainable_var = [], [], []\n",
    "  for n in range(tneu):\n",
    "    if(n < NEURONS_FROM or n >= NEURONS_FROM + NEURONS_PREDICTED):\n",
    "      continue\n",
    "    rep = dataset.repetitions[n]\n",
    "    resp_ = resps_test_nan[:rep, :, n]\n",
    "    v = np.nanvar(resp_, axis=0, ddof=1)\n",
    "    obs_var = np.nanmean(v, axis=0)\n",
    "    obs_var_avg.append(obs_var)\n",
    "    tot_var = np.nanvar(resp_, axis=(0, 1), ddof=1)\n",
    "    total_variance.append(tot_var)\n",
    "    explainable_var.append(tot_var - obs_var)\n",
    "  total_variance = np.array(total_variance)\n",
    "  explainable_var = np.array(explainable_var)\n",
    "  var_explained = total_variance - MSE\n",
    "  fevPercent = (var_explained / explainable_var).mean() * 100\n",
    "  return fevPercent"
   ]
  },
  {
   "cell_type": "code",
   "execution_count": 25,
   "id": "a8c5bb4c",
   "metadata": {},
   "outputs": [],
   "source": [
    "#Calculate Fraction of Explainable Variance\n",
    "def calculateFEV3(predictions_test, responses_test, real_responses_test, \n",
    "  nrep, nim, tneu, nneu, fneu):\n",
    "  predictions_test = torch.tile(predictions_test, (4, 1)).detach().cpu().numpy()\n",
    "  resps_test_nan = dataset.nanarray(real_responses_test, responses_test)\n",
    "  resps_test = resps_test_nan.reshape([nrep * nim, tneu])\n",
    "  sresps_test = resps_test[:,fneu:fneu+nneu]\n",
    "  print(\"sresps_test\", sresps_test.shape, \"SUM\", sresps_test.sum(), \"mean\", sresps_test.mean())\n",
    "  print(\"min\", sresps_test.min(),\"max\", sresps_test.max(), \"std\", sresps_test.std())\n",
    "  print(\"predictions_test\", predictions_test.shape, \"sum\", predictions_test.sum(), \"mean\", predictions_test.mean())\n",
    "  print(\"min\", predictions_test.min(),\"max\", predictions_test.max(), \"std\", predictions_test.std())\n",
    "  MSE = np.nanmean((predictions_test - sresps_test) ** 2, axis=0)\n",
    "  obs_var_avg, total_variance, explainable_var = [], [], []\n",
    "  for n in range(tneu):\n",
    "    if(n < NEURONS_FROM or n >= NEURONS_FROM + NEURONS_PREDICTED):\n",
    "      continue\n",
    "    # print(\"processing for neuron\", n)\n",
    "    rep = dataset.repetitions[n]\n",
    "    resp_ = resps_test_nan[:rep, :, n]\n",
    "    # print(\"resp_\", resp_.shape, resp_[:, 0:4])\n",
    "    v = np.nanvar(resp_, axis=0, ddof=1)\n",
    "    # print(\"v\", v.shape, v[0:4])\n",
    "    obs_var = np.nanmean(v, axis=0)\n",
    "    # print(\"obs_var\", obs_var)\n",
    "    obs_var_avg.append(obs_var)\n",
    "    tot_var = np.nanvar(resp_, axis=(0, 1), ddof=1)\n",
    "    # print(\"tot_var\", tot_var)\n",
    "    total_variance.append(tot_var)\n",
    "    explainable_var.append(tot_var - obs_var)\n",
    "  total_variance = np.array(total_variance)\n",
    "  explainable_var = np.array(explainable_var)\n",
    "  var_explained = total_variance - MSE\n",
    "  print(\"MSE\", MSE)\n",
    "  print(\"total_variance\", total_variance)\n",
    "  print(\"var_explained\", var_explained)\n",
    "  print(\"explainable_var\", explainable_var)\n",
    "  print(\"explainable_var total\", NEURONS_FROM, explainable_var.sum())\n",
    "  return var_explained / explainable_var"
   ]
  },
  {
   "cell_type": "code",
   "execution_count": 26,
   "id": "precious-career",
   "metadata": {},
   "outputs": [
    {
     "name": "stdout",
     "output_type": "stream",
     "text": [
      "total_count 1450 iterations 6\n",
      "loss_list [[0, 72, 19.733917236328125]] 73\n",
      "cadena 2 Qubits,  Batch Size: 256\n",
      "0 output tensor([13.2797]) target tensor([7.]) MSE 32.616600036621094\n",
      "1 output tensor([9.7874]) target tensor([4.]) MSE 33.25829315185547\n",
      "2 output tensor([2.0712]) target tensor([1.]) MSE 30.351238250732422\n",
      "3 output tensor([2.5267]) target tensor([5.]) MSE 39.54644012451172\n",
      "4 output tensor([2.1914]) target tensor([6.]) MSE 26.57120704650879\n",
      "5 output tensor([6.1474]) target tensor([0.]) MSE 30.708223342895508\n"
     ]
    }
   ],
   "source": [
    "# Step 14 - Extact features\n",
    "\n",
    "# Define model, optimizer, and loss function\n",
    "start_time = datetime.now()\n",
    "optimizer = optim.Adam(model.parameters(), lr=0.001)\n",
    "loss_func = LOSS_FUNC\n",
    "\n",
    "# Start training\n",
    "epochs = EPOCHS  # Set number of epochs\n",
    "model.eval()  # Set model to training mode\n",
    "# m = Softmax(dim=3)\n",
    "\n",
    "images_test, responses_test, real_responses_test = dataset.test()\n",
    "total_count = images_test.shape[0]\n",
    "iterations = total_count//BATCH_SIZE +1\n",
    "\n",
    "nrep, nim, tneu = responses_test.shape\n",
    "nneu = NEURONS_PREDICTED\n",
    "fneu = NEURONS_FROM\n",
    "\n",
    "print(\"total_count\", total_count, \"iterations\", iterations)\n",
    "print(\"loss_list\", loss_list[-1:], len(loss_list))\n",
    "print(DATASET, QUBITS, \"Qubits, \", \"Batch Size:\", BATCH_SIZE)\n",
    "with no_grad():\n",
    "\n",
    "    correct = 0\n",
    "    total = 0\n",
    "\n",
    "    predictions = torch.zeros(1, NEURONS_PREDICTED)\n",
    "\n",
    "    for batch_idx in range(iterations):\n",
    "      data = torch.Tensor(images_test[batch_idx*BATCH_SIZE:(batch_idx+1)*BATCH_SIZE]).to(device)\n",
    "      target = torch.Tensor(responses_test[0, batch_idx*BATCH_SIZE:(batch_idx+1)*BATCH_SIZE]).to(device)\n",
    "      # print(\"data\", data.shape, \"target\",target.shape)\n",
    "      output = model(data)\n",
    "      if batch_idx == 0:\n",
    "        predictions = output\n",
    "        print(batch_idx, \"output\", output[0, :], \"target\", target[0, NEURONS_FROM:NEURONS_FROM+NEURONS_PREDICTED], \"MSE\", torch.mean((target - output) ** 2).item() )\n",
    "      else:\n",
    "        predictions = torch.cat((predictions, output))\n",
    "        print(batch_idx, \"output\", output[0, :], \"target\", target[0, NEURONS_FROM:NEURONS_FROM+NEURONS_PREDICTED], \"MSE\", torch.mean((target - output) ** 2).item() )\n",
    "  "
   ]
  },
  {
   "cell_type": "code",
   "execution_count": 27,
   "id": "c0d8f226",
   "metadata": {},
   "outputs": [
    {
     "name": "stdout",
     "output_type": "stream",
     "text": [
      "sresps_test (5800, 1) SUM 23174.0 mean 3.9955173\n",
      "min 0.0 max 13.0 std 2.6066852\n",
      "predictions_test (5800, 1) sum 29284.69 mean 5.049084\n",
      "min 0.0069918833 max 15.902944 std 3.8401668\n",
      "MSE [22.727802]\n",
      "total_variance [1.1884079]\n",
      "var_explained [-21.539394]\n",
      "explainable_var [0.3649596]\n",
      "explainable_var total 0 0.3649596\n",
      "FEV [-5901.8574]\n",
      "FEV% -5902%\n",
      "loss_list [[0, 72, 19.733917236328125]] 73\n"
     ]
    }
   ],
   "source": [
    "  NEURONS_FROM = 0\n",
    "  fev = calculateFEV3(predictions, responses_test, real_responses_test, nrep, nim, tneu, nneu, fneu)\n",
    "  print(\"FEV\", fev * 100)\n",
    "  print(\"FEV%\", f'{{:.0f}}%'.format(fev.mean() * 100, \"%\"))\n",
    "  print(\"loss_list\", loss_list[-1:], len(loss_list))\n"
   ]
  },
  {
   "cell_type": "code",
   "execution_count": 28,
   "id": "related-wheat",
   "metadata": {},
   "outputs": [
    {
     "data": {
      "text/html": [
       "<h3>Version Information</h3><table><tr><th>Software</th><th>Version</th></tr><tr><td><code>qiskit</code></td><td>0.45.1</td></tr><tr><td><code>qiskit_algorithms</code></td><td>0.2.1</td></tr><tr><td><code>qiskit_machine_learning</code></td><td>0.7.1</td></tr><tr><th colspan='2'>System information</th></tr><tr><td>Python version</td><td>3.11.7</td></tr><tr><td>Python compiler</td><td>GCC 11.4.0</td></tr><tr><td>Python build</td><td>main, Dec 31 2023 11:09:23</td></tr><tr><td>OS</td><td>Linux</td></tr><tr><td>CPUs</td><td>8</td></tr><tr><td>Memory (Gb)</td><td>62.54344940185547</td></tr><tr><td colspan='2'>Thu Feb 15 01:42:07 2024 CST</td></tr></table>"
      ],
      "text/plain": [
       "<IPython.core.display.HTML object>"
      ]
     },
     "metadata": {},
     "output_type": "display_data"
    }
   ],
   "source": [
    "import qiskit.tools.jupyter\n",
    "\n",
    "%qiskit_version_table"
   ]
  }
 ],
 "metadata": {
  "kernelspec": {
   "display_name": "Python 3 (ipykernel)",
   "language": "python",
   "name": "python3"
  },
  "language_info": {
   "codemirror_mode": {
    "name": "ipython",
    "version": 3
   },
   "file_extension": ".py",
   "mimetype": "text/x-python",
   "name": "python",
   "nbconvert_exporter": "python",
   "pygments_lexer": "ipython3",
   "version": "3.11.7"
  },
  "toc": {
   "base_numbering": 1,
   "nav_menu": {},
   "number_sections": true,
   "sideBar": true,
   "skip_h1_title": false,
   "title_cell": "Table of Contents",
   "title_sidebar": "Contents",
   "toc_cell": false,
   "toc_position": {},
   "toc_section_display": true,
   "toc_window_display": false
  }
 },
 "nbformat": 4,
 "nbformat_minor": 5
}
